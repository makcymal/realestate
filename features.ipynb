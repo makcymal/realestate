{
 "cells": [
  {
   "cell_type": "code",
   "execution_count": 1,
   "metadata": {},
   "outputs": [],
   "source": [
    "import pandas as pd"
   ]
  },
  {
   "cell_type": "code",
   "execution_count": 13,
   "metadata": {},
   "outputs": [],
   "source": [
    "df_dtypes = pd.read_csv(\"data/df_dtypes.csv\", index_col=\"Column\")\n",
    "df_dtypes_dict = df_dtypes.to_dict()[\"Dtype\"]\n",
    "del df_dtypes_dict[\"PayAccDate\"]\n",
    "del df_dtypes_dict[\"InsDate\"]\n",
    "df = pd.read_csv(\n",
    "  \"data/df.csv\",\n",
    "  parse_dates=[\"PayAccDate\", \"InsDate\"],\n",
    "  dtype=df_dtypes_dict,\n",
    "  index_col=\"HouseId\",\n",
    ")"
   ]
  }
 ],
 "metadata": {
  "kernelspec": {
   "display_name": "pyenv",
   "language": "python",
   "name": "python3"
  },
  "language_info": {
   "codemirror_mode": {
    "name": "ipython",
    "version": 3
   },
   "file_extension": ".py",
   "mimetype": "text/x-python",
   "name": "python",
   "nbconvert_exporter": "python",
   "pygments_lexer": "ipython3",
   "version": "3.12.3"
  }
 },
 "nbformat": 4,
 "nbformat_minor": 2
}
