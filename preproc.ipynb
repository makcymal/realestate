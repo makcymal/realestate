{
 "cells": [
  {
   "cell_type": "code",
   "execution_count": 1,
   "metadata": {},
   "outputs": [],
   "source": [
    "import numpy as np\n",
    "import pandas as pd\n",
    "from sklearn.pipeline import Pipeline\n",
    "from sklearn.compose import ColumnTransformer\n",
    "from sklearn.preprocessing import StandardScaler\n",
    "from sklearn.impute import SimpleImputer\n",
    "\n",
    "from transformers import *"
   ]
  },
  {
   "cell_type": "code",
   "execution_count": 2,
   "metadata": {},
   "outputs": [],
   "source": [
    "# the data here needs to be named properly (in english)\n",
    "# converted to proper dtypes, imputed, encoded and then merged\n",
    "houses = pd.read_csv(\"data/raw_houses.csv\")\n",
    "sells = pd.read_csv(\"data/raw_sells.csv\")"
   ]
  },
  {
   "cell_type": "code",
   "execution_count": 3,
   "metadata": {},
   "outputs": [],
   "source": [
    "def apply_dtype_trfmer(\n",
    "  X: pd.DataFrame, features: pd.DataFrame\n",
    ") -> pd.DataFrame:\n",
    "  int_ft = features.index[features[\"Dtype\"] == \"int\"]\n",
    "  float_ft = features.index[features[\"Dtype\"] == \"float\"]\n",
    "  datetime_ft = features.index[features[\"Dtype\"] == \"datetime\"]\n",
    "  boolean_ft = features.index[features[\"Dtype\"] == \"boolean\"]\n",
    "\n",
    "  # parses inconsistent floats, booleans, converts to appropriate dtypes\n",
    "  dtype_trfmer = ColumnTransformer(\n",
    "    [\n",
    "      (\"int_trfm\", IntTransformer(), int_ft),\n",
    "      (\"float_trfm\", FloatTransformer(), float_ft),\n",
    "      (\"datetime_trfm\", DatetimeTransformer(), datetime_ft),\n",
    "      (\"boolean_trfm\", BooleanTransformer(), boolean_ft),\n",
    "    ],\n",
    "    remainder=\"passthrough\",\n",
    "    verbose_feature_names_out=False,\n",
    "  )\n",
    "  dtype_trfmer.set_output(transform=\"pandas\")\n",
    "  return dtype_trfmer.fit_transform(X)"
   ]
  },
  {
   "cell_type": "code",
   "execution_count": 4,
   "metadata": {},
   "outputs": [],
   "source": [
    "houses = houses.transpose()\n",
    "houses.columns = houses.iloc[0]\n",
    "houses.index = pd.RangeIndex(0, len(houses.index))\n",
    "\n",
    "ft_houses = pd.read_csv(\"data/features_houses.csv\", index_col=\"Old\")\n",
    "houses = houses[1:].rename(columns=ft_houses[\"New\"])\n",
    "ft_houses = ft_houses.reset_index().set_index(\"New\")\n",
    "houses = apply_dtype_trfmer(houses, ft_houses)"
   ]
  },
  {
   "cell_type": "code",
   "execution_count": 5,
   "metadata": {},
   "outputs": [],
   "source": [
    "ft_sells = pd.read_csv(\"data/features_sells.csv\", index_col=\"Old\")\n",
    "sells = sells.rename(columns=ft_sells[\"New\"])\n",
    "ft_sells = ft_sells.reset_index().set_index(\"New\")\n",
    "sells = apply_dtype_trfmer(sells, ft_sells)"
   ]
  }
 ],
 "metadata": {
  "kernelspec": {
   "display_name": "pyenv",
   "language": "python",
   "name": "python3"
  },
  "language_info": {
   "codemirror_mode": {
    "name": "ipython",
    "version": 3
   },
   "file_extension": ".py",
   "mimetype": "text/x-python",
   "name": "python",
   "nbconvert_exporter": "python",
   "pygments_lexer": "ipython3",
   "version": "3.12.3"
  }
 },
 "nbformat": 4,
 "nbformat_minor": 2
}
